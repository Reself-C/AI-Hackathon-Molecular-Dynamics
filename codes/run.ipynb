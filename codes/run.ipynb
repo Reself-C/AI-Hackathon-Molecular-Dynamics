{
 "cells": [
  {
   "cell_type": "code",
   "execution_count": null,
   "metadata": {},
   "outputs": [],
   "source": [
    "import os\n",
    "import numpy as np\n",
    "import matplotlib.pyplot as plt\n",
    "\n",
    "import torch\n",
    "import torch.nn as nn\n",
    "import torch.optim as optim\n",
    "from torch.utils.data import Dataset, DataLoader"
   ]
  },
  {
   "cell_type": "code",
   "execution_count": null,
   "metadata": {},
   "outputs": [],
   "source": [
    "class SeqData(Dataset):\n",
    "    def __init__(self, root_path='./dataset', dataset='ABCD') -> None:\n",
    "        super().__init__()\n",
    "        datasets_path = list(dataset)\n",
    "        self.datasets = list()\n",
    "        for subset_path in datasets_path:\n",
    "            with open(os.path.join(root_path, 'dataset' + subset_path)) as f:\n",
    "                for data in f.readlines():\n",
    "                    data = np.array(list(map(float, data.split())))\n",
    "                    self.datasets.append(data)\n",
    "        self.datasets = np.array(self.datasets)\n",
    "        \n",
    "    def __getitem__(self, index):\n",
    "        data = self.datasets[index].astype('float32')\n",
    "        cp, seq, label = data[0].reshape(1), (data[1:-1]*2-1).reshape(1,32), data[-1].reshape(1)\n",
    "        return cp, seq, label\n",
    "\n",
    "    def __len__(self):\n",
    "        return np.shape(self.datasets)[0]"
   ]
  },
  {
   "cell_type": "code",
   "execution_count": null,
   "metadata": {},
   "outputs": [],
   "source": [
    "def data_analysis(dataset):\n",
    "    set = SeqData(dataset=dataset)\n",
    "    iter = DataLoader(set, batch_size=set.__len__(), shuffle=True)\n",
    "    for cp, seq, label in iter:\n",
    "        F = torch.mean(seq, dim=2)\n",
    "        CP = cp\n",
    "        # TODO\n",
    "        \n",
    "        plt.scatter(F, label, marker='.')\n",
    "        plt.show()\n",
    "        plt.scatter(CP, label, marker='.')\n",
    "        plt.show()\n",
    "        continue\n",
    "    return"
   ]
  },
  {
   "cell_type": "code",
   "execution_count": null,
   "metadata": {},
   "outputs": [],
   "source": [
    "data_analysis('D')"
   ]
  },
  {
   "cell_type": "code",
   "execution_count": null,
   "metadata": {},
   "outputs": [],
   "source": [
    "class LeNet1d(nn.Module):\n",
    "    def __init__(self):\n",
    "        super().__init__()\n",
    "        self.conv1 = nn.Conv1d(1, 6, 5)\n",
    "        self.relu1 = nn.ReLU()\n",
    "        self.pool1 = nn.MaxPool1d(2)\n",
    "        self.conv2 = nn.Conv1d(6, 16, 5)\n",
    "        self.relu2 = nn.ReLU()\n",
    "        self.pool2 = nn.MaxPool1d(2)\n",
    "        self.fc1 = nn.Linear(80, 9)\n",
    "        self.relu3 = nn.ReLU()\n",
    "        self.fc2 = nn.Linear(9, 1)\n",
    "        self.relu4 = nn.ReLU()\n",
    "\n",
    "    def SeqForward(self, x):\n",
    "        y = self.conv1(x)\n",
    "        y = self.relu1(y)\n",
    "        y = self.pool1(y)\n",
    "        y = self.conv2(y)\n",
    "        y = self.relu2(y)\n",
    "        y = self.pool2(y)\n",
    "        y = y.view(y.shape[0], -1)\n",
    "        y = self.fc1(y)\n",
    "        y = self.relu3(y)\n",
    "        y = self.fc2(y)\n",
    "        y = self.relu4(y)\n",
    "        return y\n",
    "\n",
    "class SeqModel(LeNet1d):\n",
    "    def __init__(self):\n",
    "        super().__init__()\n",
    "        self.fc3 = nn.Linear(3, 2)\n",
    "        self.relu5 = nn.ReLU()\n",
    "        self.fc4 = nn.Linear(2, 1)\n",
    "        self.relu6 = nn.ReLU()\n",
    "    \n",
    "    def forward(self, seq, cp):\n",
    "        # seq feature\n",
    "        SF = self.SeqForward(seq)\n",
    "        # chemical parameter\n",
    "        CP = cp\n",
    "        # fraction\n",
    "        F = torch.mean(seq, dim=2)\n",
    "        x = torch.cat([SF,CP,F], dim=1)\n",
    "        x = self.fc3(x)\n",
    "        x = self.relu5(x)\n",
    "        x = self.fc4(x)\n",
    "        x = self.relu6(x)\n",
    "        \n",
    "        return x"
   ]
  },
  {
   "cell_type": "code",
   "execution_count": null,
   "metadata": {},
   "outputs": [],
   "source": [
    "def train(dataset, batch_size, lr, epochs):\n",
    "    set = SeqData(dataset=dataset)\n",
    "    iter = DataLoader(\n",
    "        dataset=set,\n",
    "        batch_size=batch_size,\n",
    "        shuffle=True,\n",
    "    )\n",
    "    Model = SeqModel()\n",
    "    Loss = nn.MSELoss()\n",
    "    optimizer = optim.Adam(Model.parameters(), lr=lr, betas=(0.9, 0.999), eps=1e-08, weight_decay=0)\n",
    "    curve = list()\n",
    "    \n",
    "    # if torch.cuda.is_available():\n",
    "    #     Model = Model.cuda()\n",
    "    \n",
    "    for epoch in range(epochs):\n",
    "        iter_n, total_loss = 0, 0\n",
    "        \n",
    "        for cp, seq, label in iter:\n",
    "            # if torch.cuda.is_available():\n",
    "            #     cp, seq, label = cp.cuda(), seq.cuda(), label.cuda()\n",
    "            \n",
    "            optimizer.zero_grad()\n",
    "            pred = Model(seq, cp)\n",
    "            loss = Loss(pred, label)\n",
    "            loss.backward()\n",
    "            optimizer.step()\n",
    "            \n",
    "            total_loss += loss\n",
    "            iter_n += 1\n",
    "        \n",
    "        curve.append(total_loss/iter_n)\n",
    "        \n",
    "    # plt.plot(curve)\n",
    "    # plt.show()\n",
    "\n",
    "    return Model\n",
    "\n",
    "def eval(dataset, Model):\n",
    "    set = SeqData(dataset=dataset)\n",
    "    iter = DataLoader(\n",
    "        dataset=set,\n",
    "        batch_size=set.__len__(),\n",
    "        shuffle=True,\n",
    "    )\n",
    "    Model.eval()\n",
    "\n",
    "    for cp, seq, label in iter:\n",
    "        pred = Model(seq, cp)\n",
    "    \n",
    "    pred = pred.detach()\n",
    "    plt.scatter(pred, label, marker='.')\n",
    "    plt.show()\n",
    "    return "
   ]
  },
  {
   "cell_type": "code",
   "execution_count": null,
   "metadata": {},
   "outputs": [],
   "source": [
    "Model_A = train(dataset='A',\n",
    "                batch_size=16,\n",
    "                lr=1e-2,\n",
    "                epochs=64)\n",
    "eval(dataset='A', Model=Model_A)"
   ]
  },
  {
   "cell_type": "code",
   "execution_count": null,
   "metadata": {},
   "outputs": [],
   "source": [
    "Model_B = train(dataset='B',\n",
    "                batch_size=16,\n",
    "                lr=1e-2,\n",
    "                epochs=64)\n",
    "eval(dataset='B', Model=Model_B)"
   ]
  },
  {
   "cell_type": "code",
   "execution_count": null,
   "metadata": {},
   "outputs": [],
   "source": [
    "Model_C = train(dataset='C',\n",
    "                batch_size=16,\n",
    "                lr=1e-2,\n",
    "                epochs=64)\n",
    "eval(dataset='C', Model=Model_C)"
   ]
  },
  {
   "cell_type": "code",
   "execution_count": null,
   "metadata": {},
   "outputs": [],
   "source": [
    "Model_D = train(dataset='D',\n",
    "                batch_size=16,\n",
    "                lr=1e-2,\n",
    "                epochs=64)\n",
    "eval(dataset='D', Model=Model_D)"
   ]
  },
  {
   "cell_type": "code",
   "execution_count": null,
   "metadata": {},
   "outputs": [],
   "source": [
    "Model_all = {\n",
    "    'A': Model_A.state_dict(),\n",
    "    'B': Model_B.state_dict(),\n",
    "    'C': Model_C.state_dict(),\n",
    "    'D': Model_D.state_dict(),\n",
    "}\n",
    "if not os.path.exists('./checkpoints'):\n",
    "    os.mkdir('./checkpoints')\n",
    "torch.save(Model_all, './checkpoints/Model_all.pth')"
   ]
  },
  {
   "cell_type": "code",
   "execution_count": null,
   "metadata": {},
   "outputs": [],
   "source": []
  }
 ],
 "metadata": {
  "interpreter": {
   "hash": "cf151ee0d5d4bd6519c08d7976dcef72e9a178a9dc773adc57d522f57ddd0fc2"
  },
  "kernelspec": {
   "display_name": "Python 3.8.10 64-bit ('py38': conda)",
   "language": "python",
   "name": "python3"
  },
  "language_info": {
   "codemirror_mode": {
    "name": "ipython",
    "version": 3
   },
   "file_extension": ".py",
   "mimetype": "text/x-python",
   "name": "python",
   "nbconvert_exporter": "python",
   "pygments_lexer": "ipython3",
   "version": "3.8.10"
  },
  "orig_nbformat": 4
 },
 "nbformat": 4,
 "nbformat_minor": 2
}
