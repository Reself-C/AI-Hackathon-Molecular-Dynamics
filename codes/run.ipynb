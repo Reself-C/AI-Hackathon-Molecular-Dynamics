{
 "cells": [
  {
   "cell_type": "code",
   "execution_count": null,
   "metadata": {},
   "outputs": [],
   "source": [
    "import os\n",
    "import numpy as np\n",
    "\n",
    "import torch\n",
    "import torch.nn as nn\n",
    "import torch.optim as optim\n",
    "from torch.utils.data import Dataset, DataLoader"
   ]
  },
  {
   "cell_type": "code",
   "execution_count": null,
   "metadata": {},
   "outputs": [],
   "source": [
    "class SeqData(Dataset):\n",
    "    def __init__(self, root_path='./dataset', dataset='ABCD') -> None:\n",
    "        super().__init__()\n",
    "        datasets_path = list(dataset)\n",
    "        self.datasets = list()\n",
    "        for subset_path in datasets_path:\n",
    "            with open(os.path.join(root_path, 'dataset' + subset_path)) as f:\n",
    "                for data in f.readlines():\n",
    "                    data = np.array(list(map(float, data.split())))\n",
    "                    self.datasets.append(data)\n",
    "        self.datasets = np.array(self.datasets)\n",
    "        \n",
    "    def __getitem__(self, index):\n",
    "        data = self.datasets[index].astype('float32')\n",
    "        cp, seq, label = data[0], (data[1:-1]*2-1).reshape(1,32), data[-1]\n",
    "        return cp, seq, label\n",
    "\n",
    "    def __len__(self):\n",
    "        return np.shape(self.datasets)[0]"
   ]
  },
  {
   "cell_type": "code",
   "execution_count": null,
   "metadata": {},
   "outputs": [],
   "source": [
    "def data_analysis(dataset):\n",
    "    set = SeqData(dataset=dataset)\n",
    "    iter = DataLoader(set, batch_size=set.__len__(), shuffle=True)\n",
    "    for cp, seq, label in iter:\n",
    "        # TODO\n",
    "        continue\n",
    "    return"
   ]
  },
  {
   "cell_type": "code",
   "execution_count": null,
   "metadata": {},
   "outputs": [],
   "source": [
    "data_analysis('A')\n",
    "data_analysis('B')\n",
    "data_analysis('C')\n",
    "data_analysis('D')"
   ]
  },
  {
   "cell_type": "code",
   "execution_count": null,
   "metadata": {},
   "outputs": [],
   "source": [
    "class SeqModel(nn.Module):\n",
    "    def __init__(self):\n",
    "        super().__init__()\n",
    "        self.conv1 = nn.Conv1d(1, 6, 5)\n",
    "        self.relu1 = nn.ReLU()\n",
    "        self.pool1 = nn.MaxPool1d(2)\n",
    "        self.conv2 = nn.Conv1d(6, 16, 5)\n",
    "        self.relu2 = nn.ReLU()\n",
    "        self.pool2 = nn.MaxPool1d(2)\n",
    "        self.fc1 = nn.Linear(80, 9)\n",
    "        self.relu3 = nn.ReLU()\n",
    "        self.fc2 = nn.Linear(9, 1)\n",
    "        self.relu4 = nn.ReLU()\n",
    "\n",
    "    def forward(self, x):\n",
    "        y = self.conv1(x)\n",
    "        y = self.relu1(y)\n",
    "        y = self.pool1(y)\n",
    "        y = self.conv2(y)\n",
    "        y = self.relu2(y)\n",
    "        y = self.pool2(y)\n",
    "        y = y.view(y.shape[0], -1)\n",
    "        y = self.fc1(y)\n",
    "        y = self.relu3(y)\n",
    "        y = self.fc2(y)\n",
    "        y = self.relu4(y)\n",
    "        return y"
   ]
  },
  {
   "cell_type": "code",
   "execution_count": null,
   "metadata": {},
   "outputs": [],
   "source": [
    "def train(dataset, batch_size, lr, epochs):\n",
    "    set = SeqData(dataset=dataset)\n",
    "    iter = DataLoader(\n",
    "        dataset=set,\n",
    "        batch_size=batch_size,\n",
    "        shuffle=True,\n",
    "    )\n",
    "    Model = SeqModel()\n",
    "    Loss = nn.MSELoss()\n",
    "    optimizer = optim.Adam(Model.parameters(), lr=lr, betas=(0.9, 0.999), eps=1e-08, weight_decay=0)\n",
    "    for epoch in range(epochs):\n",
    "        for cp, seq, label in iter:\n",
    "            optimizer.zero_grad()\n",
    "            f = Model(seq)\n",
    "            pred = f\n",
    "            loss = Loss(pred, label)\n",
    "            optimizer.step()\n",
    "            "
   ]
  },
  {
   "cell_type": "code",
   "execution_count": null,
   "metadata": {},
   "outputs": [],
   "source": [
    "train(dataset='A',\n",
    "      batch_size=128,\n",
    "      lr=1e-3,\n",
    "      epochs=16)"
   ]
  },
  {
   "cell_type": "code",
   "execution_count": null,
   "metadata": {},
   "outputs": [],
   "source": []
  }
 ],
 "metadata": {
  "interpreter": {
   "hash": "cf151ee0d5d4bd6519c08d7976dcef72e9a178a9dc773adc57d522f57ddd0fc2"
  },
  "kernelspec": {
   "display_name": "Python 3.8.10 64-bit ('py38': conda)",
   "language": "python",
   "name": "python3"
  },
  "language_info": {
   "codemirror_mode": {
    "name": "ipython",
    "version": 3
   },
   "file_extension": ".py",
   "mimetype": "text/x-python",
   "name": "python",
   "nbconvert_exporter": "python",
   "pygments_lexer": "ipython3",
   "version": "3.8.10"
  },
  "orig_nbformat": 4
 },
 "nbformat": 4,
 "nbformat_minor": 2
}
