{
 "cells": [
  {
   "cell_type": "code",
   "execution_count": 16,
   "metadata": {},
   "outputs": [],
   "source": [
    "import os\n",
    "import numpy as np\n",
    "\n",
    "import torch\n",
    "import torch.nn as nn\n",
    "from torch.utils.data import Dataset, DataLoader"
   ]
  },
  {
   "cell_type": "code",
   "execution_count": 17,
   "metadata": {},
   "outputs": [],
   "source": [
    "args = {\n",
    "    'path': './dataset',\n",
    "}"
   ]
  },
  {
   "cell_type": "code",
   "execution_count": 18,
   "metadata": {},
   "outputs": [],
   "source": [
    "class SeqData(Dataset):\n",
    "    def __init__(self, args, dataset='ABCD') -> None:\n",
    "        super().__init__()\n",
    "        root_path = args['path']\n",
    "        datasets_path = list(dataset)\n",
    "        self.datasets = list()\n",
    "        for subset_path in datasets_path:\n",
    "            with open(os.path.join(root_path, 'dataset' + subset_path)) as f:\n",
    "                for data in f.readlines():\n",
    "                    data = np.array(list(map(float, data.split())))\n",
    "                    self.datasets.append(data)\n",
    "        self.datasets = np.array(self.datasets)\n",
    "        \n",
    "    def __getitem__(self, index):\n",
    "        data = self.datasets[index].astype('float32')\n",
    "        cp, seq, label = data[0], data[1:-1], data[-1]\n",
    "        return cp, seq, label\n",
    "\n",
    "    def __len__(self):\n",
    "        return np.shape(self.datasets)[0]"
   ]
  },
  {
   "cell_type": "code",
   "execution_count": 23,
   "metadata": {},
   "outputs": [],
   "source": [
    "def data_analysis(dataset):\n",
    "    set = SeqData(args, dataset)\n",
    "    iter = DataLoader(set, batch_size=set.__len__(), shuffle=True)\n",
    "    for cp, seq, label in iter:\n",
    "        pass\n",
    "    return"
   ]
  },
  {
   "cell_type": "code",
   "execution_count": null,
   "metadata": {},
   "outputs": [],
   "source": [
    "data_analysis('A')"
   ]
  }
 ],
 "metadata": {
  "interpreter": {
   "hash": "cf151ee0d5d4bd6519c08d7976dcef72e9a178a9dc773adc57d522f57ddd0fc2"
  },
  "kernelspec": {
   "display_name": "Python 3.8.10 64-bit ('py38': conda)",
   "language": "python",
   "name": "python3"
  },
  "language_info": {
   "codemirror_mode": {
    "name": "ipython",
    "version": 3
   },
   "file_extension": ".py",
   "mimetype": "text/x-python",
   "name": "python",
   "nbconvert_exporter": "python",
   "pygments_lexer": "ipython3",
   "version": "3.8.10"
  },
  "orig_nbformat": 4
 },
 "nbformat": 4,
 "nbformat_minor": 2
}
